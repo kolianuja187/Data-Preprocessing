{
 "cells": [
  {
   "cell_type": "code",
   "execution_count": 16,
   "id": "e172ead0-6952-4d0a-b75b-4504288c6b7e",
   "metadata": {},
   "outputs": [],
   "source": [
    "# Import Libraries\n",
    "import pandas as pd"
   ]
  },
  {
   "cell_type": "code",
   "execution_count": 17,
   "id": "3f65be1f-ec30-4268-9c04-19145a6caaf6",
   "metadata": {},
   "outputs": [],
   "source": [
    "# Sample Data\n",
    "data={\n",
    "    'CustomerID':['C001','C002','C003','C004','C005','C006','C007','C008'],\n",
    "    'Education_Level':['High School','Bachelors','Masters','phD','Bachelors','High School','phD','Masters'],\n",
    "    'Product_Quality':['Low','Medium','High','Medium','Low','High','Medium','High'],\n",
    "    'Statisfacation_Level':['Poor','Average','Excellent','Good','Average','Poor','Average','Excellent']\n",
    "}\n",
    "df=pd.DataFrame(data)"
   ]
  },
  {
   "cell_type": "code",
   "execution_count": 18,
   "id": "16f3520f-29d8-46b8-9914-e95d417a839f",
   "metadata": {},
   "outputs": [
    {
     "data": {
      "text/html": [
       "<div>\n",
       "<style scoped>\n",
       "    .dataframe tbody tr th:only-of-type {\n",
       "        vertical-align: middle;\n",
       "    }\n",
       "\n",
       "    .dataframe tbody tr th {\n",
       "        vertical-align: top;\n",
       "    }\n",
       "\n",
       "    .dataframe thead th {\n",
       "        text-align: right;\n",
       "    }\n",
       "</style>\n",
       "<table border=\"1\" class=\"dataframe\">\n",
       "  <thead>\n",
       "    <tr style=\"text-align: right;\">\n",
       "      <th></th>\n",
       "      <th>CustomerID</th>\n",
       "      <th>Education_Level</th>\n",
       "      <th>Product_Quality</th>\n",
       "      <th>Statisfacation_Level</th>\n",
       "    </tr>\n",
       "  </thead>\n",
       "  <tbody>\n",
       "    <tr>\n",
       "      <th>0</th>\n",
       "      <td>C001</td>\n",
       "      <td>High School</td>\n",
       "      <td>Low</td>\n",
       "      <td>Poor</td>\n",
       "    </tr>\n",
       "    <tr>\n",
       "      <th>1</th>\n",
       "      <td>C002</td>\n",
       "      <td>Bachelors</td>\n",
       "      <td>Medium</td>\n",
       "      <td>Average</td>\n",
       "    </tr>\n",
       "    <tr>\n",
       "      <th>2</th>\n",
       "      <td>C003</td>\n",
       "      <td>Masters</td>\n",
       "      <td>High</td>\n",
       "      <td>Excellent</td>\n",
       "    </tr>\n",
       "    <tr>\n",
       "      <th>3</th>\n",
       "      <td>C004</td>\n",
       "      <td>phD</td>\n",
       "      <td>Medium</td>\n",
       "      <td>Good</td>\n",
       "    </tr>\n",
       "    <tr>\n",
       "      <th>4</th>\n",
       "      <td>C005</td>\n",
       "      <td>Bachelors</td>\n",
       "      <td>Low</td>\n",
       "      <td>Average</td>\n",
       "    </tr>\n",
       "    <tr>\n",
       "      <th>5</th>\n",
       "      <td>C006</td>\n",
       "      <td>High School</td>\n",
       "      <td>High</td>\n",
       "      <td>Poor</td>\n",
       "    </tr>\n",
       "    <tr>\n",
       "      <th>6</th>\n",
       "      <td>C007</td>\n",
       "      <td>phD</td>\n",
       "      <td>Medium</td>\n",
       "      <td>Average</td>\n",
       "    </tr>\n",
       "    <tr>\n",
       "      <th>7</th>\n",
       "      <td>C008</td>\n",
       "      <td>Masters</td>\n",
       "      <td>High</td>\n",
       "      <td>Excellent</td>\n",
       "    </tr>\n",
       "  </tbody>\n",
       "</table>\n",
       "</div>"
      ],
      "text/plain": [
       "  CustomerID Education_Level Product_Quality Statisfacation_Level\n",
       "0       C001     High School             Low                 Poor\n",
       "1       C002       Bachelors          Medium              Average\n",
       "2       C003         Masters            High            Excellent\n",
       "3       C004             phD          Medium                 Good\n",
       "4       C005       Bachelors             Low              Average\n",
       "5       C006     High School            High                 Poor\n",
       "6       C007             phD          Medium              Average\n",
       "7       C008         Masters            High            Excellent"
      ]
     },
     "execution_count": 18,
     "metadata": {},
     "output_type": "execute_result"
    }
   ],
   "source": [
    "df"
   ]
  },
  {
   "cell_type": "code",
   "execution_count": 19,
   "id": "e66d4ef6-ab7e-4cbf-8d59-ab55dd0a72b2",
   "metadata": {},
   "outputs": [],
   "source": [
    "# Define the order for each ordinal feature.\n",
    "education_order=['High School','Bachelors','Masters','phD']\n",
    "product_quality_order=['Low','Medium','High']\n",
    "satisfaction_order=['Poor','Average','Good','Excellent']"
   ]
  },
  {
   "cell_type": "code",
   "execution_count": 20,
   "id": "2c50edd2-bf95-4333-b001-29f4dde54b6c",
   "metadata": {},
   "outputs": [],
   "source": [
    "from sklearn.preprocessing import OrdinalEncoder"
   ]
  },
  {
   "cell_type": "code",
   "execution_count": 21,
   "id": "4cb6b196-2d64-41bc-a68f-34972227dbb8",
   "metadata": {},
   "outputs": [],
   "source": [
    "encoder=OrdinalEncoder(categories=[education_order,\n",
    "                      product_quality_order,satisfaction_order])"
   ]
  },
  {
   "cell_type": "code",
   "execution_count": 23,
   "id": "afd91bb3-fd6b-4f11-ba6a-51b84a00c878",
   "metadata": {},
   "outputs": [],
   "source": [
    "# Apply Encoding (Skip CustomerID as it is identifier)\n",
    "df[['Education_Level','Product_Quality','Statisfacation_Level']]=encoder.fit_transform(df[['Education_Level','Product_Quality','Statisfacation_Level']])"
   ]
  },
  {
   "cell_type": "code",
   "execution_count": 24,
   "id": "72612b5f-f23b-4f05-91f8-55098af60541",
   "metadata": {},
   "outputs": [
    {
     "data": {
      "text/html": [
       "<div>\n",
       "<style scoped>\n",
       "    .dataframe tbody tr th:only-of-type {\n",
       "        vertical-align: middle;\n",
       "    }\n",
       "\n",
       "    .dataframe tbody tr th {\n",
       "        vertical-align: top;\n",
       "    }\n",
       "\n",
       "    .dataframe thead th {\n",
       "        text-align: right;\n",
       "    }\n",
       "</style>\n",
       "<table border=\"1\" class=\"dataframe\">\n",
       "  <thead>\n",
       "    <tr style=\"text-align: right;\">\n",
       "      <th></th>\n",
       "      <th>CustomerID</th>\n",
       "      <th>Education_Level</th>\n",
       "      <th>Product_Quality</th>\n",
       "      <th>Statisfacation_Level</th>\n",
       "    </tr>\n",
       "  </thead>\n",
       "  <tbody>\n",
       "    <tr>\n",
       "      <th>0</th>\n",
       "      <td>C001</td>\n",
       "      <td>0.0</td>\n",
       "      <td>0.0</td>\n",
       "      <td>0.0</td>\n",
       "    </tr>\n",
       "    <tr>\n",
       "      <th>1</th>\n",
       "      <td>C002</td>\n",
       "      <td>1.0</td>\n",
       "      <td>1.0</td>\n",
       "      <td>1.0</td>\n",
       "    </tr>\n",
       "    <tr>\n",
       "      <th>2</th>\n",
       "      <td>C003</td>\n",
       "      <td>2.0</td>\n",
       "      <td>2.0</td>\n",
       "      <td>3.0</td>\n",
       "    </tr>\n",
       "    <tr>\n",
       "      <th>3</th>\n",
       "      <td>C004</td>\n",
       "      <td>3.0</td>\n",
       "      <td>1.0</td>\n",
       "      <td>2.0</td>\n",
       "    </tr>\n",
       "    <tr>\n",
       "      <th>4</th>\n",
       "      <td>C005</td>\n",
       "      <td>1.0</td>\n",
       "      <td>0.0</td>\n",
       "      <td>1.0</td>\n",
       "    </tr>\n",
       "    <tr>\n",
       "      <th>5</th>\n",
       "      <td>C006</td>\n",
       "      <td>0.0</td>\n",
       "      <td>2.0</td>\n",
       "      <td>0.0</td>\n",
       "    </tr>\n",
       "    <tr>\n",
       "      <th>6</th>\n",
       "      <td>C007</td>\n",
       "      <td>3.0</td>\n",
       "      <td>1.0</td>\n",
       "      <td>1.0</td>\n",
       "    </tr>\n",
       "    <tr>\n",
       "      <th>7</th>\n",
       "      <td>C008</td>\n",
       "      <td>2.0</td>\n",
       "      <td>2.0</td>\n",
       "      <td>3.0</td>\n",
       "    </tr>\n",
       "  </tbody>\n",
       "</table>\n",
       "</div>"
      ],
      "text/plain": [
       "  CustomerID  Education_Level  Product_Quality  Statisfacation_Level\n",
       "0       C001              0.0              0.0                   0.0\n",
       "1       C002              1.0              1.0                   1.0\n",
       "2       C003              2.0              2.0                   3.0\n",
       "3       C004              3.0              1.0                   2.0\n",
       "4       C005              1.0              0.0                   1.0\n",
       "5       C006              0.0              2.0                   0.0\n",
       "6       C007              3.0              1.0                   1.0\n",
       "7       C008              2.0              2.0                   3.0"
      ]
     },
     "execution_count": 24,
     "metadata": {},
     "output_type": "execute_result"
    }
   ],
   "source": [
    "df"
   ]
  },
  {
   "cell_type": "code",
   "execution_count": null,
   "id": "6adbde06-76d9-4813-b4d5-70f574684099",
   "metadata": {},
   "outputs": [],
   "source": []
  }
 ],
 "metadata": {
  "kernelspec": {
   "display_name": "Python [conda env:base] *",
   "language": "python",
   "name": "conda-base-py"
  },
  "language_info": {
   "codemirror_mode": {
    "name": "ipython",
    "version": 3
   },
   "file_extension": ".py",
   "mimetype": "text/x-python",
   "name": "python",
   "nbconvert_exporter": "python",
   "pygments_lexer": "ipython3",
   "version": "3.12.7"
  }
 },
 "nbformat": 4,
 "nbformat_minor": 5
}
